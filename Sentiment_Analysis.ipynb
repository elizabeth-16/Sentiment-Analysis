{
  "nbformat": 4,
  "nbformat_minor": 0,
  "metadata": {
    "colab": {
      "name": "Sentiment_Analysis.ipynb",
      "provenance": [],
      "collapsed_sections": [],
      "authorship_tag": "ABX9TyOlJksHMNJG86ms0ZM8gs8m",
      "include_colab_link": true
    },
    "kernelspec": {
      "name": "python3",
      "display_name": "Python 3"
    },
    "language_info": {
      "name": "python"
    }
  },
  "cells": [
    {
      "cell_type": "markdown",
      "metadata": {
        "id": "view-in-github",
        "colab_type": "text"
      },
      "source": [
        "<a href=\"https://colab.research.google.com/github/elizabeth-16/Sentiment-Analysis/blob/main/Sentiment_Analysis.ipynb\" target=\"_parent\"><img src=\"https://colab.research.google.com/assets/colab-badge.svg\" alt=\"Open In Colab\"/></a>"
      ]
    },
    {
      "cell_type": "code",
      "metadata": {
        "colab": {
          "base_uri": "https://localhost:8080/"
        },
        "id": "jWsFRt7tQnjp",
        "outputId": "be69e3ed-f9b8-47b9-a7cf-07caf2a5500f"
      },
      "source": [
        "!pip install vaderSentiment"
      ],
      "execution_count": 1,
      "outputs": [
        {
          "output_type": "stream",
          "text": [
            "Collecting vaderSentiment\n",
            "\u001b[?25l  Downloading https://files.pythonhosted.org/packages/76/fc/310e16254683c1ed35eeb97386986d6c00bc29df17ce280aed64d55537e9/vaderSentiment-3.3.2-py2.py3-none-any.whl (125kB)\n",
            "\r\u001b[K     |██▋                             | 10kB 15.9MB/s eta 0:00:01\r\u001b[K     |█████▏                          | 20kB 10.2MB/s eta 0:00:01\r\u001b[K     |███████▉                        | 30kB 8.6MB/s eta 0:00:01\r\u001b[K     |██████████▍                     | 40kB 8.2MB/s eta 0:00:01\r\u001b[K     |█████████████                   | 51kB 5.1MB/s eta 0:00:01\r\u001b[K     |███████████████▋                | 61kB 5.6MB/s eta 0:00:01\r\u001b[K     |██████████████████▏             | 71kB 5.8MB/s eta 0:00:01\r\u001b[K     |████████████████████▉           | 81kB 6.3MB/s eta 0:00:01\r\u001b[K     |███████████████████████▍        | 92kB 6.3MB/s eta 0:00:01\r\u001b[K     |██████████████████████████      | 102kB 6.1MB/s eta 0:00:01\r\u001b[K     |████████████████████████████▋   | 112kB 6.1MB/s eta 0:00:01\r\u001b[K     |███████████████████████████████▏| 122kB 6.1MB/s eta 0:00:01\r\u001b[K     |████████████████████████████████| 133kB 6.1MB/s \n",
            "\u001b[?25hRequirement already satisfied: requests in /usr/local/lib/python3.7/dist-packages (from vaderSentiment) (2.23.0)\n",
            "Requirement already satisfied: certifi>=2017.4.17 in /usr/local/lib/python3.7/dist-packages (from requests->vaderSentiment) (2020.12.5)\n",
            "Requirement already satisfied: idna<3,>=2.5 in /usr/local/lib/python3.7/dist-packages (from requests->vaderSentiment) (2.10)\n",
            "Requirement already satisfied: chardet<4,>=3.0.2 in /usr/local/lib/python3.7/dist-packages (from requests->vaderSentiment) (3.0.4)\n",
            "Requirement already satisfied: urllib3!=1.25.0,!=1.25.1,<1.26,>=1.21.1 in /usr/local/lib/python3.7/dist-packages (from requests->vaderSentiment) (1.24.3)\n",
            "Installing collected packages: vaderSentiment\n",
            "Successfully installed vaderSentiment-3.3.2\n"
          ],
          "name": "stdout"
        }
      ]
    },
    {
      "cell_type": "code",
      "metadata": {
        "id": "YShZvPx7UF6w"
      },
      "source": [
        "from vaderSentiment.vaderSentiment import SentimentIntensityAnalyzer\n",
        "vs = SentimentIntensityAnalyzer()"
      ],
      "execution_count": 2,
      "outputs": []
    },
    {
      "cell_type": "code",
      "metadata": {
        "colab": {
          "base_uri": "https://localhost:8080/",
          "height": 204
        },
        "id": "5hcIeBBOUzRP",
        "outputId": "cc787358-dfe6-4aaa-ed2e-be4c93777e4d"
      },
      "source": [
        "import os\n",
        "import pandas as pd\n",
        "import numpy as np\n",
        "df = pd.read_csv('/content/yelp_labelled.csv')\n",
        "df.head()"
      ],
      "execution_count": 3,
      "outputs": [
        {
          "output_type": "execute_result",
          "data": {
            "text/html": [
              "<div>\n",
              "<style scoped>\n",
              "    .dataframe tbody tr th:only-of-type {\n",
              "        vertical-align: middle;\n",
              "    }\n",
              "\n",
              "    .dataframe tbody tr th {\n",
              "        vertical-align: top;\n",
              "    }\n",
              "\n",
              "    .dataframe thead th {\n",
              "        text-align: right;\n",
              "    }\n",
              "</style>\n",
              "<table border=\"1\" class=\"dataframe\">\n",
              "  <thead>\n",
              "    <tr style=\"text-align: right;\">\n",
              "      <th></th>\n",
              "      <th>reviews</th>\n",
              "      <th>label</th>\n",
              "    </tr>\n",
              "  </thead>\n",
              "  <tbody>\n",
              "    <tr>\n",
              "      <th>0</th>\n",
              "      <td>Wow... Loved this place.</td>\n",
              "      <td>1</td>\n",
              "    </tr>\n",
              "    <tr>\n",
              "      <th>1</th>\n",
              "      <td>Crust is not good.</td>\n",
              "      <td>0</td>\n",
              "    </tr>\n",
              "    <tr>\n",
              "      <th>2</th>\n",
              "      <td>Not tasty and the texture was just nasty.</td>\n",
              "      <td>0</td>\n",
              "    </tr>\n",
              "    <tr>\n",
              "      <th>3</th>\n",
              "      <td>Stopped by during the late May bank holiday of...</td>\n",
              "      <td>1</td>\n",
              "    </tr>\n",
              "    <tr>\n",
              "      <th>4</th>\n",
              "      <td>The selection on the menu was great and so wer...</td>\n",
              "      <td>1</td>\n",
              "    </tr>\n",
              "  </tbody>\n",
              "</table>\n",
              "</div>"
            ],
            "text/plain": [
              "                                             reviews  label\n",
              "0                           Wow... Loved this place.      1\n",
              "1                                 Crust is not good.      0\n",
              "2          Not tasty and the texture was just nasty.      0\n",
              "3  Stopped by during the late May bank holiday of...      1\n",
              "4  The selection on the menu was great and so wer...      1"
            ]
          },
          "metadata": {
            "tags": []
          },
          "execution_count": 3
        }
      ]
    },
    {
      "cell_type": "code",
      "metadata": {
        "colab": {
          "base_uri": "https://localhost:8080/",
          "height": 419
        },
        "id": "Ttl5kWRgdQxs",
        "outputId": "5a97b569-fc5f-4cdd-b270-488b48989b7e"
      },
      "source": [
        "df['label'] = df['label'].replace({1:\"good\"}).replace({0:\"bad\"})\n",
        "df"
      ],
      "execution_count": 4,
      "outputs": [
        {
          "output_type": "execute_result",
          "data": {
            "text/html": [
              "<div>\n",
              "<style scoped>\n",
              "    .dataframe tbody tr th:only-of-type {\n",
              "        vertical-align: middle;\n",
              "    }\n",
              "\n",
              "    .dataframe tbody tr th {\n",
              "        vertical-align: top;\n",
              "    }\n",
              "\n",
              "    .dataframe thead th {\n",
              "        text-align: right;\n",
              "    }\n",
              "</style>\n",
              "<table border=\"1\" class=\"dataframe\">\n",
              "  <thead>\n",
              "    <tr style=\"text-align: right;\">\n",
              "      <th></th>\n",
              "      <th>reviews</th>\n",
              "      <th>label</th>\n",
              "    </tr>\n",
              "  </thead>\n",
              "  <tbody>\n",
              "    <tr>\n",
              "      <th>0</th>\n",
              "      <td>Wow... Loved this place.</td>\n",
              "      <td>good</td>\n",
              "    </tr>\n",
              "    <tr>\n",
              "      <th>1</th>\n",
              "      <td>Crust is not good.</td>\n",
              "      <td>bad</td>\n",
              "    </tr>\n",
              "    <tr>\n",
              "      <th>2</th>\n",
              "      <td>Not tasty and the texture was just nasty.</td>\n",
              "      <td>bad</td>\n",
              "    </tr>\n",
              "    <tr>\n",
              "      <th>3</th>\n",
              "      <td>Stopped by during the late May bank holiday of...</td>\n",
              "      <td>good</td>\n",
              "    </tr>\n",
              "    <tr>\n",
              "      <th>4</th>\n",
              "      <td>The selection on the menu was great and so wer...</td>\n",
              "      <td>good</td>\n",
              "    </tr>\n",
              "    <tr>\n",
              "      <th>...</th>\n",
              "      <td>...</td>\n",
              "      <td>...</td>\n",
              "    </tr>\n",
              "    <tr>\n",
              "      <th>995</th>\n",
              "      <td>I think food should have flavor and texture an...</td>\n",
              "      <td>bad</td>\n",
              "    </tr>\n",
              "    <tr>\n",
              "      <th>996</th>\n",
              "      <td>Appetite instantly gone.</td>\n",
              "      <td>bad</td>\n",
              "    </tr>\n",
              "    <tr>\n",
              "      <th>997</th>\n",
              "      <td>Overall I was not impressed and would not go b...</td>\n",
              "      <td>bad</td>\n",
              "    </tr>\n",
              "    <tr>\n",
              "      <th>998</th>\n",
              "      <td>The whole experience was underwhelming, and I ...</td>\n",
              "      <td>bad</td>\n",
              "    </tr>\n",
              "    <tr>\n",
              "      <th>999</th>\n",
              "      <td>Then, as if I hadn't wasted enough of my life ...</td>\n",
              "      <td>bad</td>\n",
              "    </tr>\n",
              "  </tbody>\n",
              "</table>\n",
              "<p>1000 rows × 2 columns</p>\n",
              "</div>"
            ],
            "text/plain": [
              "                                               reviews label\n",
              "0                             Wow... Loved this place.  good\n",
              "1                                   Crust is not good.   bad\n",
              "2            Not tasty and the texture was just nasty.   bad\n",
              "3    Stopped by during the late May bank holiday of...  good\n",
              "4    The selection on the menu was great and so wer...  good\n",
              "..                                                 ...   ...\n",
              "995  I think food should have flavor and texture an...   bad\n",
              "996                           Appetite instantly gone.   bad\n",
              "997  Overall I was not impressed and would not go b...   bad\n",
              "998  The whole experience was underwhelming, and I ...   bad\n",
              "999  Then, as if I hadn't wasted enough of my life ...   bad\n",
              "\n",
              "[1000 rows x 2 columns]"
            ]
          },
          "metadata": {
            "tags": []
          },
          "execution_count": 4
        }
      ]
    },
    {
      "cell_type": "code",
      "metadata": {
        "colab": {
          "base_uri": "https://localhost:8080/"
        },
        "id": "mf3Fdkyidw3S",
        "outputId": "cd8bbe27-4b06-41ce-cf38-1f0fd46c2fc0"
      },
      "source": [
        "import nltk\n",
        "nltk.download('stopwords')\n",
        "stopword_list = nltk.corpus.stopwords.words('english')\n",
        "stopword_list.remove('no')\n",
        "stopword_list.remove('not')\n",
        "from nltk.tokenize.toktok import ToktokTokenizer\n",
        "tokenizer = ToktokTokenizer()\n",
        "def remove_stopwords(text):\n",
        "  tokens = tokenizer.tokenize(text)\n",
        "  tokens = [token.strip() for token in tokens]\n",
        "  filtered_tokens = [token for token in tokens if token not in stopword_list]\n",
        "  filtered_text = ' '.join(filtered_tokens)\n",
        "  return filtered_text"
      ],
      "execution_count": 5,
      "outputs": [
        {
          "output_type": "stream",
          "text": [
            "[nltk_data] Downloading package stopwords to /root/nltk_data...\n",
            "[nltk_data]   Unzipping corpora/stopwords.zip.\n"
          ],
          "name": "stdout"
        }
      ]
    },
    {
      "cell_type": "code",
      "metadata": {
        "id": "Q_1KPH5ce3Cq"
      },
      "source": [
        "import re\n",
        "def remove_sp(text):\n",
        "  pattern = r'[^A-Za-z0-9\\s]'\n",
        "  text =re.sub(pattern,'',text)\n",
        "  return text"
      ],
      "execution_count": 6,
      "outputs": []
    },
    {
      "cell_type": "code",
      "metadata": {
        "colab": {
          "base_uri": "https://localhost:8080/",
          "height": 204
        },
        "id": "piL2P4XofdYq",
        "outputId": "0894ebb6-d8bd-4fe3-aab2-171723160e19"
      },
      "source": [
        "df.reviews = df.reviews.apply(lambda x:x.lower())\n",
        "df.label = df.label.apply(lambda x:x.lower())\n",
        "df.reviews = df.reviews.apply(remove_stopwords)\n",
        "df.reviews = df.reviews.apply(remove_sp)\n",
        "df.head()"
      ],
      "execution_count": 7,
      "outputs": [
        {
          "output_type": "execute_result",
          "data": {
            "text/html": [
              "<div>\n",
              "<style scoped>\n",
              "    .dataframe tbody tr th:only-of-type {\n",
              "        vertical-align: middle;\n",
              "    }\n",
              "\n",
              "    .dataframe tbody tr th {\n",
              "        vertical-align: top;\n",
              "    }\n",
              "\n",
              "    .dataframe thead th {\n",
              "        text-align: right;\n",
              "    }\n",
              "</style>\n",
              "<table border=\"1\" class=\"dataframe\">\n",
              "  <thead>\n",
              "    <tr style=\"text-align: right;\">\n",
              "      <th></th>\n",
              "      <th>reviews</th>\n",
              "      <th>label</th>\n",
              "    </tr>\n",
              "  </thead>\n",
              "  <tbody>\n",
              "    <tr>\n",
              "      <th>0</th>\n",
              "      <td>wow  loved place</td>\n",
              "      <td>good</td>\n",
              "    </tr>\n",
              "    <tr>\n",
              "      <th>1</th>\n",
              "      <td>crust not good</td>\n",
              "      <td>bad</td>\n",
              "    </tr>\n",
              "    <tr>\n",
              "      <th>2</th>\n",
              "      <td>not tasty texture nasty</td>\n",
              "      <td>bad</td>\n",
              "    </tr>\n",
              "    <tr>\n",
              "      <th>3</th>\n",
              "      <td>stopped late may bank holiday rick steve recom...</td>\n",
              "      <td>good</td>\n",
              "    </tr>\n",
              "    <tr>\n",
              "      <th>4</th>\n",
              "      <td>selection menu great prices</td>\n",
              "      <td>good</td>\n",
              "    </tr>\n",
              "  </tbody>\n",
              "</table>\n",
              "</div>"
            ],
            "text/plain": [
              "                                             reviews label\n",
              "0                                  wow  loved place   good\n",
              "1                                    crust not good    bad\n",
              "2                           not tasty texture nasty    bad\n",
              "3  stopped late may bank holiday rick steve recom...  good\n",
              "4                       selection menu great prices   good"
            ]
          },
          "metadata": {
            "tags": []
          },
          "execution_count": 7
        }
      ]
    },
    {
      "cell_type": "code",
      "metadata": {
        "colab": {
          "base_uri": "https://localhost:8080/",
          "height": 204
        },
        "id": "J2UiC1uFgqGG",
        "outputId": "8d68ee4b-9569-490a-938e-d0d4c9044ff4"
      },
      "source": [
        "df['compound'] = df['reviews'].apply(lambda x: vs.polarity_scores(x)['compound'])\n",
        "df.head()"
      ],
      "execution_count": 8,
      "outputs": [
        {
          "output_type": "execute_result",
          "data": {
            "text/html": [
              "<div>\n",
              "<style scoped>\n",
              "    .dataframe tbody tr th:only-of-type {\n",
              "        vertical-align: middle;\n",
              "    }\n",
              "\n",
              "    .dataframe tbody tr th {\n",
              "        vertical-align: top;\n",
              "    }\n",
              "\n",
              "    .dataframe thead th {\n",
              "        text-align: right;\n",
              "    }\n",
              "</style>\n",
              "<table border=\"1\" class=\"dataframe\">\n",
              "  <thead>\n",
              "    <tr style=\"text-align: right;\">\n",
              "      <th></th>\n",
              "      <th>reviews</th>\n",
              "      <th>label</th>\n",
              "      <th>compound</th>\n",
              "    </tr>\n",
              "  </thead>\n",
              "  <tbody>\n",
              "    <tr>\n",
              "      <th>0</th>\n",
              "      <td>wow  loved place</td>\n",
              "      <td>good</td>\n",
              "      <td>0.8271</td>\n",
              "    </tr>\n",
              "    <tr>\n",
              "      <th>1</th>\n",
              "      <td>crust not good</td>\n",
              "      <td>bad</td>\n",
              "      <td>-0.3412</td>\n",
              "    </tr>\n",
              "    <tr>\n",
              "      <th>2</th>\n",
              "      <td>not tasty texture nasty</td>\n",
              "      <td>bad</td>\n",
              "      <td>0.4449</td>\n",
              "    </tr>\n",
              "    <tr>\n",
              "      <th>3</th>\n",
              "      <td>stopped late may bank holiday rick steve recom...</td>\n",
              "      <td>good</td>\n",
              "      <td>0.6908</td>\n",
              "    </tr>\n",
              "    <tr>\n",
              "      <th>4</th>\n",
              "      <td>selection menu great prices</td>\n",
              "      <td>good</td>\n",
              "      <td>0.6249</td>\n",
              "    </tr>\n",
              "  </tbody>\n",
              "</table>\n",
              "</div>"
            ],
            "text/plain": [
              "                                             reviews label  compound\n",
              "0                                  wow  loved place   good    0.8271\n",
              "1                                    crust not good    bad   -0.3412\n",
              "2                           not tasty texture nasty    bad    0.4449\n",
              "3  stopped late may bank holiday rick steve recom...  good    0.6908\n",
              "4                       selection menu great prices   good    0.6249"
            ]
          },
          "metadata": {
            "tags": []
          },
          "execution_count": 8
        }
      ]
    },
    {
      "cell_type": "code",
      "metadata": {
        "id": "mmXT5d5tlRm4"
      },
      "source": [
        "x = df['reviews'].values\n",
        "y = df['label'].values"
      ],
      "execution_count": 9,
      "outputs": []
    },
    {
      "cell_type": "code",
      "metadata": {
        "id": "0dFT8mF7lJgh"
      },
      "source": [
        "from sklearn.model_selection import train_test_split\n",
        "x_train,x_test,y_train,y_test = train_test_split(x,y,random_state=0)"
      ],
      "execution_count": 10,
      "outputs": []
    },
    {
      "cell_type": "code",
      "metadata": {
        "colab": {
          "base_uri": "https://localhost:8080/"
        },
        "id": "kxwi95WMU5bK",
        "outputId": "ede3def1-b9ac-44c6-8bc5-d52a572e01d8"
      },
      "source": [
        "from sklearn.feature_extraction.text import TfidfVectorizer\n",
        "from sklearn.naive_bayes import MultinomialNB\n",
        "from sklearn.pipeline import Pipeline\n",
        "model = Pipeline([('TFIDF',TfidfVectorizer()),('model',MultinomialNB())])\n",
        "model.fit(x_train,y_train)"
      ],
      "execution_count": 11,
      "outputs": [
        {
          "output_type": "execute_result",
          "data": {
            "text/plain": [
              "Pipeline(memory=None,\n",
              "         steps=[('TFIDF',\n",
              "                 TfidfVectorizer(analyzer='word', binary=False,\n",
              "                                 decode_error='strict',\n",
              "                                 dtype=<class 'numpy.float64'>,\n",
              "                                 encoding='utf-8', input='content',\n",
              "                                 lowercase=True, max_df=1.0, max_features=None,\n",
              "                                 min_df=1, ngram_range=(1, 1), norm='l2',\n",
              "                                 preprocessor=None, smooth_idf=True,\n",
              "                                 stop_words=None, strip_accents=None,\n",
              "                                 sublinear_tf=False,\n",
              "                                 token_pattern='(?u)\\\\b\\\\w\\\\w+\\\\b',\n",
              "                                 tokenizer=None, use_idf=True,\n",
              "                                 vocabulary=None)),\n",
              "                ('model',\n",
              "                 MultinomialNB(alpha=1.0, class_prior=None, fit_prior=True))],\n",
              "         verbose=False)"
            ]
          },
          "metadata": {
            "tags": []
          },
          "execution_count": 11
        }
      ]
    },
    {
      "cell_type": "code",
      "metadata": {
        "colab": {
          "base_uri": "https://localhost:8080/"
        },
        "id": "z3Svce6SlZPw",
        "outputId": "acebc331-97a1-4723-b689-e7239b101078"
      },
      "source": [
        "y_pred = model.predict(x_test)\n",
        "y_pred"
      ],
      "execution_count": 12,
      "outputs": [
        {
          "output_type": "execute_result",
          "data": {
            "text/plain": [
              "array(['bad', 'bad', 'bad', 'good', 'bad', 'bad', 'good', 'bad', 'bad',\n",
              "       'good', 'good', 'good', 'bad', 'good', 'good', 'good', 'bad',\n",
              "       'bad', 'bad', 'good', 'bad', 'bad', 'good', 'good', 'bad', 'good',\n",
              "       'bad', 'good', 'good', 'bad', 'good', 'good', 'bad', 'bad', 'good',\n",
              "       'bad', 'bad', 'bad', 'bad', 'good', 'good', 'good', 'good', 'bad',\n",
              "       'bad', 'bad', 'good', 'good', 'bad', 'bad', 'good', 'bad', 'good',\n",
              "       'good', 'bad', 'bad', 'good', 'good', 'bad', 'good', 'bad', 'bad',\n",
              "       'good', 'good', 'good', 'bad', 'good', 'bad', 'good', 'bad',\n",
              "       'good', 'good', 'good', 'good', 'bad', 'bad', 'bad', 'good', 'bad',\n",
              "       'good', 'good', 'good', 'good', 'bad', 'good', 'good', 'bad',\n",
              "       'bad', 'good', 'good', 'bad', 'good', 'bad', 'bad', 'bad', 'bad',\n",
              "       'good', 'bad', 'bad', 'good', 'bad', 'good', 'good', 'good', 'bad',\n",
              "       'good', 'good', 'good', 'bad', 'bad', 'bad', 'good', 'bad', 'good',\n",
              "       'good', 'bad', 'good', 'bad', 'good', 'good', 'good', 'bad',\n",
              "       'good', 'bad', 'bad', 'bad', 'bad', 'bad', 'bad', 'bad', 'bad',\n",
              "       'bad', 'bad', 'bad', 'good', 'good', 'good', 'good', 'good',\n",
              "       'good', 'bad', 'good', 'bad', 'bad', 'bad', 'bad', 'bad', 'bad',\n",
              "       'good', 'bad', 'good', 'bad', 'good', 'good', 'good', 'bad',\n",
              "       'good', 'bad', 'good', 'good', 'bad', 'bad', 'good', 'good', 'bad',\n",
              "       'bad', 'good', 'bad', 'bad', 'bad', 'bad', 'good', 'good', 'bad',\n",
              "       'bad', 'bad', 'bad', 'good', 'bad', 'bad', 'good', 'good', 'bad',\n",
              "       'bad', 'bad', 'good', 'bad', 'good', 'bad', 'good', 'good', 'bad',\n",
              "       'good', 'good', 'bad', 'bad', 'good', 'good', 'bad', 'good',\n",
              "       'good', 'good', 'good', 'bad', 'good', 'bad', 'good', 'good',\n",
              "       'bad', 'bad', 'good', 'bad', 'bad', 'bad', 'good', 'bad', 'good',\n",
              "       'good', 'good', 'good', 'good', 'bad', 'bad', 'bad', 'bad', 'good',\n",
              "       'good', 'good', 'bad', 'bad', 'good', 'good', 'good', 'good',\n",
              "       'good', 'bad', 'bad', 'good', 'bad', 'bad', 'good', 'good', 'good',\n",
              "       'good', 'bad', 'good', 'good', 'bad', 'bad', 'bad'], dtype='<U4')"
            ]
          },
          "metadata": {
            "tags": []
          },
          "execution_count": 12
        }
      ]
    },
    {
      "cell_type": "code",
      "metadata": {
        "colab": {
          "base_uri": "https://localhost:8080/"
        },
        "id": "hY18OIUelsDI",
        "outputId": "c95fb883-04c5-4f50-971c-c1b81437c407"
      },
      "source": [
        "y_test"
      ],
      "execution_count": 13,
      "outputs": [
        {
          "output_type": "execute_result",
          "data": {
            "text/plain": [
              "array(['bad', 'bad', 'bad', 'bad', 'bad', 'bad', 'good', 'bad', 'bad',\n",
              "       'good', 'good', 'good', 'bad', 'good', 'good', 'good', 'bad',\n",
              "       'bad', 'bad', 'good', 'bad', 'good', 'good', 'bad', 'bad', 'good',\n",
              "       'good', 'good', 'good', 'bad', 'good', 'good', 'good', 'good',\n",
              "       'good', 'bad', 'bad', 'bad', 'bad', 'good', 'good', 'bad', 'good',\n",
              "       'bad', 'bad', 'bad', 'bad', 'bad', 'bad', 'bad', 'good', 'good',\n",
              "       'good', 'good', 'bad', 'bad', 'good', 'good', 'bad', 'good', 'bad',\n",
              "       'bad', 'bad', 'bad', 'good', 'bad', 'good', 'good', 'good', 'bad',\n",
              "       'good', 'good', 'good', 'good', 'bad', 'bad', 'good', 'good',\n",
              "       'bad', 'good', 'bad', 'good', 'good', 'bad', 'good', 'good', 'bad',\n",
              "       'bad', 'good', 'bad', 'bad', 'good', 'bad', 'bad', 'bad', 'good',\n",
              "       'bad', 'good', 'good', 'bad', 'good', 'good', 'good', 'bad',\n",
              "       'good', 'bad', 'good', 'good', 'bad', 'good', 'good', 'good',\n",
              "       'bad', 'bad', 'good', 'bad', 'good', 'good', 'good', 'good',\n",
              "       'good', 'bad', 'good', 'bad', 'bad', 'bad', 'good', 'bad', 'bad',\n",
              "       'good', 'bad', 'good', 'bad', 'bad', 'good', 'good', 'good',\n",
              "       'good', 'good', 'bad', 'good', 'good', 'good', 'bad', 'bad', 'bad',\n",
              "       'bad', 'good', 'good', 'good', 'good', 'good', 'good', 'good',\n",
              "       'bad', 'bad', 'good', 'good', 'good', 'bad', 'bad', 'bad', 'good',\n",
              "       'good', 'bad', 'bad', 'bad', 'bad', 'bad', 'good', 'bad', 'good',\n",
              "       'good', 'bad', 'bad', 'good', 'bad', 'good', 'bad', 'good', 'good',\n",
              "       'bad', 'bad', 'bad', 'bad', 'good', 'bad', 'good', 'bad', 'good',\n",
              "       'good', 'bad', 'bad', 'bad', 'good', 'bad', 'good', 'good', 'bad',\n",
              "       'good', 'good', 'good', 'good', 'bad', 'good', 'bad', 'good',\n",
              "       'bad', 'bad', 'bad', 'good', 'bad', 'bad', 'good', 'good', 'bad',\n",
              "       'good', 'good', 'good', 'good', 'bad', 'good', 'bad', 'bad',\n",
              "       'good', 'good', 'good', 'bad', 'bad', 'good', 'good', 'good',\n",
              "       'good', 'bad', 'good', 'bad', 'good', 'good', 'good', 'bad',\n",
              "       'good', 'good', 'good', 'good', 'bad', 'good', 'bad', 'bad',\n",
              "       'good', 'bad'], dtype=object)"
            ]
          },
          "metadata": {
            "tags": []
          },
          "execution_count": 13
        }
      ]
    },
    {
      "cell_type": "code",
      "metadata": {
        "colab": {
          "base_uri": "https://localhost:8080/"
        },
        "id": "ER2SuFWnlwS4",
        "outputId": "02f4bfc5-0f45-4b5b-80e9-5aef18fd83ba"
      },
      "source": [
        "from sklearn.metrics import accuracy_score,confusion_matrix,classification_report\n",
        "accuracy_score(y_pred,y_test)"
      ],
      "execution_count": 14,
      "outputs": [
        {
          "output_type": "execute_result",
          "data": {
            "text/plain": [
              "0.756"
            ]
          },
          "metadata": {
            "tags": []
          },
          "execution_count": 14
        }
      ]
    },
    {
      "cell_type": "code",
      "metadata": {
        "colab": {
          "base_uri": "https://localhost:8080/"
        },
        "id": "wihpFEKTlyRf",
        "outputId": "97ce6028-fe64-435f-8f76-b8fb7d78f2b1"
      },
      "source": [
        "confusion_matrix(y_pred,y_test)"
      ],
      "execution_count": 15,
      "outputs": [
        {
          "output_type": "execute_result",
          "data": {
            "text/plain": [
              "array([[91, 35],\n",
              "       [26, 98]])"
            ]
          },
          "metadata": {
            "tags": []
          },
          "execution_count": 15
        }
      ]
    },
    {
      "cell_type": "code",
      "metadata": {
        "colab": {
          "base_uri": "https://localhost:8080/"
        },
        "id": "-5jCWFmdl6mf",
        "outputId": "72215cbf-457f-4061-abe8-07e864ed5717"
      },
      "source": [
        "print(classification_report(y_pred,y_test))"
      ],
      "execution_count": 16,
      "outputs": [
        {
          "output_type": "stream",
          "text": [
            "              precision    recall  f1-score   support\n",
            "\n",
            "         bad       0.78      0.72      0.75       126\n",
            "        good       0.74      0.79      0.76       124\n",
            "\n",
            "    accuracy                           0.76       250\n",
            "   macro avg       0.76      0.76      0.76       250\n",
            "weighted avg       0.76      0.76      0.76       250\n",
            "\n"
          ],
          "name": "stdout"
        }
      ]
    },
    {
      "cell_type": "code",
      "metadata": {
        "colab": {
          "base_uri": "https://localhost:8080/"
        },
        "id": "4sQBVRzzl___",
        "outputId": "72f71454-e13e-423d-b320-48de30dc6cd6"
      },
      "source": [
        "import joblib\n",
        "joblib.dump(model,'Yelp_model')"
      ],
      "execution_count": 17,
      "outputs": [
        {
          "output_type": "execute_result",
          "data": {
            "text/plain": [
              "['Yelp_model']"
            ]
          },
          "metadata": {
            "tags": []
          },
          "execution_count": 17
        }
      ]
    },
    {
      "cell_type": "code",
      "metadata": {
        "colab": {
          "base_uri": "https://localhost:8080/"
        },
        "id": "rKPZGBhDqj-W",
        "outputId": "3690757e-2d54-44fc-fec6-eb86941d9a20"
      },
      "source": [
        "!pip install streamlit --quiet\n",
        "!pip install pyngrok==4.1.1 --quiet\n",
        "from pyngrok import ngrok"
      ],
      "execution_count": 18,
      "outputs": [
        {
          "output_type": "stream",
          "text": [
            "\u001b[K     |████████████████████████████████| 8.2MB 5.9MB/s \n",
            "\u001b[K     |████████████████████████████████| 4.2MB 55.2MB/s \n",
            "\u001b[K     |████████████████████████████████| 163kB 54.4MB/s \n",
            "\u001b[K     |████████████████████████████████| 112kB 47.0MB/s \n",
            "\u001b[K     |████████████████████████████████| 81kB 7.5MB/s \n",
            "\u001b[K     |████████████████████████████████| 122kB 47.9MB/s \n",
            "\u001b[K     |████████████████████████████████| 71kB 7.7MB/s \n",
            "\u001b[?25h  Building wheel for blinker (setup.py) ... \u001b[?25l\u001b[?25hdone\n",
            "\u001b[31mERROR: google-colab 1.0.0 has requirement ipykernel~=4.10, but you'll have ipykernel 5.5.4 which is incompatible.\u001b[0m\n",
            "  Building wheel for pyngrok (setup.py) ... \u001b[?25l\u001b[?25hdone\n"
          ],
          "name": "stdout"
        }
      ]
    },
    {
      "cell_type": "code",
      "metadata": {
        "colab": {
          "base_uri": "https://localhost:8080/"
        },
        "id": "AAnZZ-4MqvJV",
        "outputId": "dc731305-8536-4193-b25d-41063644a65c"
      },
      "source": [
        "%%writefile app.py\n",
        "import streamlit as st\n",
        "import sklearn\n",
        "import joblib\n",
        "model = joblib.load('/content/Yelp_model')\n",
        "st.title('Yelp Classifier')\n",
        "ip = st.text_input(\"Enter the message\")\n",
        "op = model.predict([ip])\n",
        "if st.button('Predict'):\n",
        "  st.title(op[0])"
      ],
      "execution_count": 19,
      "outputs": [
        {
          "output_type": "stream",
          "text": [
            "Writing app.py\n"
          ],
          "name": "stdout"
        }
      ]
    },
    {
      "cell_type": "code",
      "metadata": {
        "colab": {
          "base_uri": "https://localhost:8080/",
          "height": 52
        },
        "id": "YmFb0kHpqzse",
        "outputId": "e4464d81-bd49-4685-afa8-cafc2e7808e9"
      },
      "source": [
        "!nohup streamlit run app.py &\n",
        "url=ngrok.connect(port='8501')\n",
        "url"
      ],
      "execution_count": 20,
      "outputs": [
        {
          "output_type": "stream",
          "text": [
            "nohup: appending output to 'nohup.out'\n"
          ],
          "name": "stdout"
        },
        {
          "output_type": "execute_result",
          "data": {
            "application/vnd.google.colaboratory.intrinsic+json": {
              "type": "string"
            },
            "text/plain": [
              "'http://d1fee96a1a8a.ngrok.io'"
            ]
          },
          "metadata": {
            "tags": []
          },
          "execution_count": 20
        }
      ]
    }
  ]
}